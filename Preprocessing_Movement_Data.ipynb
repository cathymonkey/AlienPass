{
  "nbformat": 4,
  "nbformat_minor": 0,
  "metadata": {
    "colab": {
      "provenance": [],
      "gpuType": "T4",
      "authorship_tag": "ABX9TyNwrJzYAtNcNedYuw4vnGvX",
      "include_colab_link": true
    },
    "kernelspec": {
      "name": "python3",
      "display_name": "Python 3"
    },
    "language_info": {
      "name": "python"
    },
    "accelerator": "GPU"
  },
  "cells": [
    {
      "cell_type": "markdown",
      "metadata": {
        "id": "view-in-github",
        "colab_type": "text"
      },
      "source": [
        "<a href=\"https://colab.research.google.com/github/cathymonkey/AlienPass/blob/main/Preprocessing_Movement_Data.ipynb\" target=\"_parent\"><img src=\"https://colab.research.google.com/assets/colab-badge.svg\" alt=\"Open In Colab\"/></a>"
      ]
    },
    {
      "cell_type": "code",
      "source": [
        "from google.colab import drive\n",
        "drive.mount('/content/drive')\n",
        "\n",
        "import os\n",
        "os.chdir(\"/content/drive/MyDrive/Multimodal_Alignment\")\n",
        "import pandas as pd\n",
        "import numpy as np\n",
        "from utils import *"
      ],
      "metadata": {
        "id": "hbTSzuMJzi9r",
        "colab": {
          "base_uri": "https://localhost:8080/"
        },
        "outputId": "949e37a5-b2d7-4312-abf0-c154f21ba674"
      },
      "execution_count": 1,
      "outputs": [
        {
          "output_type": "stream",
          "name": "stdout",
          "text": [
            "Mounted at /content/drive\n"
          ]
        }
      ]
    },
    {
      "cell_type": "markdown",
      "source": [
        "# Overview of the movement data\n",
        "\n",
        "- Clean data (dropping FF)\n",
        "- Move data to subfolders -- Aff, Arg, Coop\n",
        "- Summary stats of data\n",
        "\n",
        "  - Arg 116\n",
        "\n",
        "     - ZT left: 27\n",
        "\n",
        "     - ZT right: 27\n",
        "\n",
        "     - ZR left: 31\n",
        "      \n",
        "     - ZR right: 31\n",
        "\n",
        "  -  Aff 80\n",
        "\n",
        "    - ZT left: 21\n",
        "\n",
        "     - ZT right: 21\n",
        "\n",
        "     - ZR left: 19\n",
        "\n",
        "     - ZR right: 19\n",
        "\n",
        "  - Coop 80\n",
        "\n",
        "     - ZT left: 21\n",
        "\n",
        "     - ZT right: 21\n",
        "\n",
        "     - ZR left: 19\n",
        "\n",
        "     - ZR right: 19"
      ],
      "metadata": {
        "id": "EaJtkYiC0WEd"
      }
    },
    {
      "cell_type": "code",
      "source": [
        "folder_path = \"/content/drive/MyDrive/Multimodal_Alignment/movement_data\"\n",
        "subfolders = {\n",
        "    'Arg': os.path.join(folder_path, 'Arg'),\n",
        "    'Aff': os.path.join(folder_path, 'Aff'),\n",
        "    'Coop': os.path.join(folder_path, 'Coop')\n",
        "}"
      ],
      "metadata": {
        "id": "LniB9dQl0QXe"
      },
      "execution_count": 2,
      "outputs": []
    },
    {
      "cell_type": "code",
      "source": [
        "count_files(subfolders['Arg']) + count_files(subfolders['Aff']) + count_files(subfolders['Coop'])"
      ],
      "metadata": {
        "colab": {
          "base_uri": "https://localhost:8080/"
        },
        "id": "8fe0KwAYzy7P",
        "outputId": "a62ab1c9-2a4c-432c-a14f-2efc27f18553"
      },
      "execution_count": 3,
      "outputs": [
        {
          "output_type": "execute_result",
          "data": {
            "text/plain": [
              "276"
            ]
          },
          "metadata": {},
          "execution_count": 3
        }
      ]
    },
    {
      "cell_type": "code",
      "source": [
        "for folder in subfolders.values():\n",
        "  zt_l = 0\n",
        "  zt_r = 0\n",
        "  zr_l = 0\n",
        "  zr_r = 0\n",
        "  total = 0\n",
        "\n",
        "  for file in os.listdir(folder):\n",
        "    total += 1\n",
        "    if \"FF\" in file:\n",
        "      os.remove(os.path.join(folder, file))\n",
        "\n",
        "    elif \"ZT\" in file:\n",
        "      if \"left\" in file:\n",
        "        zt_l += 1\n",
        "      elif \"right\" in file:\n",
        "        zt_r += 1\n",
        "\n",
        "    elif \"ZR\" in file:\n",
        "      if \"left\" in file:\n",
        "        zr_l += 1\n",
        "      elif \"right\" in file:\n",
        "        zr_r += 1\n",
        "  print(\"=\"*12)\n",
        "  print(folder.split(\"/\")[-1], total)\n",
        "  print(\"ZT left:\", zt_l)\n",
        "  print(\"ZT right:\", zt_r)\n",
        "  print(\"ZR left:\", zr_l)\n",
        "  print(\"ZR right:\", zr_r)\n"
      ],
      "metadata": {
        "colab": {
          "base_uri": "https://localhost:8080/"
        },
        "id": "Cb8RJJ0Y36ht",
        "outputId": "2e370139-7d4a-463b-c569-b1418bd47d1d"
      },
      "execution_count": 17,
      "outputs": [
        {
          "output_type": "stream",
          "name": "stdout",
          "text": [
            "============\n",
            "Arg 116\n",
            "ZT left: 27\n",
            "ZT right: 27\n",
            "ZR left: 31\n",
            "ZR right: 31\n",
            "============\n",
            "Aff 80\n",
            "ZT left: 21\n",
            "ZT right: 21\n",
            "ZR left: 19\n",
            "ZR right: 19\n",
            "============\n",
            "Coop 80\n",
            "ZT left: 21\n",
            "ZT right: 21\n",
            "ZR left: 19\n",
            "ZR right: 19\n"
          ]
        }
      ]
    },
    {
      "cell_type": "markdown",
      "source": [
        "# Preprocessing data\n",
        "- Compute the Euclidean distance *d*  between the nose and the neck\n",
        "- To calculate the coordinate of the neck, we take the mean of the left and right shoulders\n",
        "- Save the processed data as csv files as follows:\n",
        "\n",
        "| Nose_x | Nose_y | Neck_x | Neck_y | Distance\n",
        "|----------|----------|----------|----------||----------|\n",
        "| 0.6079339981 | 0.338481307|  0.696541369| 0.4657012224|0.1245230632\n",
        "\n",
        "- We have normalized the frame scaled from 0 to 1?\n",
        "\n",
        "\n"
      ],
      "metadata": {
        "id": "aKz0Rz-LhcE7"
      }
    },
    {
      "cell_type": "code",
      "source": [
        "folder_path = \"/content/drive/MyDrive/Multimodal_Alignment/movement_data\"\n",
        "subfolders = {\n",
        "    'Arg': os.path.join(folder_path, 'Arg'),\n",
        "    'Aff': os.path.join(folder_path, 'Aff'),\n",
        "    'Coop': os.path.join(folder_path, 'Coop')\n",
        "}"
      ],
      "metadata": {
        "id": "cEnPYk4tACAP"
      },
      "execution_count": 3,
      "outputs": []
    },
    {
      "cell_type": "markdown",
      "source": [
        "### Helper functions"
      ],
      "metadata": {
        "id": "dUQJYGL2Uf6T"
      }
    },
    {
      "cell_type": "code",
      "source": [
        "def get_extracted_data(left_path, right_path):\n",
        "  # load data from csv files\n",
        "  left_data = pd.read_csv(left_path)\n",
        "  right_data = pd.read_csv(right_path)\n",
        "\n",
        "  # column names for the extracted data\n",
        "  extracted_cols = ['Nose_x', 'Nose_y', 'Left_shoulder_x', 'Left_shoulder_y', 'Right_shoulder_x', 'Right_shoulder_y']\n",
        "\n",
        "  # extract the time-series data\n",
        "  left_data = left_data[extracted_cols].values\n",
        "  right_data = right_data[extracted_cols].values\n",
        "\n",
        "  return left_data, right_data\n",
        "\n",
        "# calculate the Euclidean distance between the neck and the nose\n",
        "def calculate_distance(extracted_data):\n",
        "  neck_x = (extracted_data[:, 2] + extracted_data[:, 4]) / 2\n",
        "  neck_y = (extracted_data[:, 3] + extracted_data[:, 5]) / 2\n",
        "\n",
        "  nose_x = extracted_data[:, 0]\n",
        "  nose_y = extracted_data[:, 1]\n",
        "\n",
        "  distance = np.sqrt((nose_x - neck_x) ** 2 + (nose_y - neck_y) ** 2)\n",
        "\n",
        "  return distance\n",
        "\n",
        "# store data to a csv file\n",
        "def save_data(data, distance, dest_path):\n",
        "  results_df = pd.DataFrame({\n",
        "      'Nose_x': data[:,0],\n",
        "      'Nose_y': data[:,1],\n",
        "      'Neck_x': data[:,2],\n",
        "      'Neck_y': data[:,3],\n",
        "      'Distance': distance,\n",
        "  })\n",
        "\n",
        "  # Save the results to a CSV file\n",
        "  results_df.to_csv(dest_path, index=False)\n",
        "\n",
        "# drop Nans and Infs\n",
        "def clean_data(left, right):\n",
        "    # Identify the rows where either time-series has NaNs or Infs\n",
        "    invalid_indices = np.isnan(left).any(axis=1) | np.isnan(right).any(axis=1) | \\\n",
        "                      np.isinf(left).any(axis=1) | np.isinf(right).any(axis=1)\n",
        "\n",
        "    # Remove these rows from both time-series\n",
        "    left_timeseries = left[~invalid_indices]\n",
        "    right_timeseries = right[~invalid_indices]\n",
        "\n",
        "    return left_timeseries, right_timeseries"
      ],
      "metadata": {
        "id": "ILLjcQaV8uzs"
      },
      "execution_count": 5,
      "outputs": []
    },
    {
      "cell_type": "markdown",
      "source": [
        "### Preprocessing all files by pairs (left and right)"
      ],
      "metadata": {
        "id": "fJBJ0TSqUiiW"
      }
    },
    {
      "cell_type": "code",
      "source": [
        "# iterate through all the files\n",
        "for folder_path in subfolders.values():\n",
        "  # i.e. folder_path: /content/drive/MyDrive/Multimodal_Alignment/movement_data/Arg\n",
        "  files = sorted(os.listdir(folder_path))\n",
        "\n",
        "  for i in range(0, len(files)-1, 2):\n",
        "    # i.e left: '1038_ZT_2_Arg_Video_left.csv'\n",
        "    # i.e. right: '1038_ZT_2_Arg_Video_right.csv'\n",
        "    left = os.path.join(folder_path, files[i])\n",
        "    right = os.path.join(folder_path, files[i+1])\n",
        "\n",
        "    # extract the data\n",
        "    left_data, right_data = get_extracted_data(left, right)\n",
        "\n",
        "    # clean the data, drop any NaNs and infs\n",
        "    left_timeseries, right_timeseries = clean_data(left_data, right_data)\n",
        "\n",
        "    # calculate distance for both left and right\n",
        "    left_distance = calculate_distance(left_timeseries)\n",
        "    right_distance = calculate_distance(right_timeseries)\n",
        "\n",
        "\n",
        "    # create dest_path for left and right\n",
        "\n",
        "    # destination folder path for processed data\n",
        "    dest_path = \"/content/drive/MyDrive/Multimodal_Alignment/movement_data_processed\"\n",
        "\n",
        "    # create the destination folder if it doesn't exist\n",
        "    os.makedirs(dest_path, exist_ok=True)\n",
        "\n",
        "    # create the dest path for left and right\n",
        "    dest_path = os.path.join(dest_path, folder_path.split('/')[-1])\n",
        "    dest_path_left = os.path.join(dest_path, left.split('/')[-1])\n",
        "    dest_path_right = os.path.join(dest_path, right.split('/')[-1])\n",
        "\n",
        "    # save as csv files if not existed before\n",
        "    if not os.path.exists(dest_path_left):\n",
        "      save_data(left_timeseries, left_distance, dest_path_left)\n",
        "\n",
        "    if not os.path.exists(dest_path_right):\n",
        "      save_data(right_timeseries, right_distance, dest_path_right)\n",
        "\n",
        "print(\"Process done!\")"
      ],
      "metadata": {
        "id": "VZG4nEvNAEo7",
        "colab": {
          "base_uri": "https://localhost:8080/"
        },
        "outputId": "ef616d08-1c51-40e9-d145-c10777a98920"
      },
      "execution_count": 15,
      "outputs": [
        {
          "output_type": "stream",
          "name": "stdout",
          "text": [
            "Process done!\n"
          ]
        }
      ]
    },
    {
      "cell_type": "code",
      "source": [
        "# Verify if all the files have been processed\n",
        "processed_folder = \"/content/drive/MyDrive/Multimodal_Alignment/movement_data_processed\"\n",
        "for subfolder in os.listdir(processed_folder):\n",
        "  subfolder_path = os.path.join(processed_folder, subfolder)\n",
        "  print(f\"{subfolder}: {count_files(subfolder_path)}\")"
      ],
      "metadata": {
        "colab": {
          "base_uri": "https://localhost:8080/"
        },
        "id": "aHwslnWwY_4J",
        "outputId": "aaec8fa9-1fe1-411b-bc4b-99e0c4c1cb71"
      },
      "execution_count": 16,
      "outputs": [
        {
          "output_type": "stream",
          "name": "stdout",
          "text": [
            "Arg: 116\n",
            "Aff: 80\n",
            "Coop: 80\n"
          ]
        }
      ]
    }
  ]
}